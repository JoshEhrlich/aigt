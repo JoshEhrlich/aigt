{
 "cells": [
  {
   "cell_type": "code",
   "execution_count": 5,
   "metadata": {},
   "outputs": [
    {
     "name": "stdout",
     "output_type": "stream",
     "text": [
      "(128, 128, 1)\n",
      "16\n",
      "0.002 3.98e-06\n",
      "<bound method Model.summary of <tensorflow.python.keras.engine.functional.Functional object at 0x0000027E06D3F1C0>>\n"
     ]
    }
   ],
   "source": [
    "import os\n",
    "import sys\n",
    "import datetime\n",
    "from random import sample\n",
    "from pathlib import Path\n",
    "import girder_client\n",
    "import matplotlib.pyplot as plt\n",
    "import pandas as pd\n",
    "import tensorflow as tf\n",
    "import numpy as np\n",
    "\n",
    "from ultrasound_batch_generator import train_preprocess, train_preprocess_with_maps, generate_weight_maps\n",
    "import evaluation_metrics\n",
    "\n",
    "from models import (\n",
    "    new_unet,\n",
    "    weighted_categorical_crossentropy,\n",
    "    weighted_categorical_crossentropy_with_maps,\n",
    ")\n",
    "import utils\n",
    "\n",
    "\n",
    "batch_size=128, \n",
    "num_epochs=500.0, \n",
    "sagittal_only=False, \n",
    "num_frames=1, \n",
    "with_maps=False, \n",
    "learning_rate=0.002,\n",
    "lr_decay=False,\n",
    "dropout=0.0,\n",
    "use_attention=True,\n",
    "num_layers=5,\n",
    "filters=16,\n",
    "use_batch_norm=True,\n",
    "load_from_save=False,\n",
    "    \n",
    "ultrasound_size = 128\n",
    "num_classes = 2\n",
    "min_learning_rate = 0.00001\n",
    "class_weights = np.array([0.1, 0.9])\n",
    "learning_rate_decay = (0.002-0.00001) / 500\n",
    "\n",
    "model = new_unet(\n",
    "            input_size = ultrasound_size,\n",
    "            num_classes=num_classes,\n",
    "            num_channels=num_frames,\n",
    "            use_batch_norm=use_batch_norm,\n",
    "            upsample_mode=\"deconv\",  # 'deconv' or 'simple'\n",
    "            dropout=dropout,\n",
    "            dropout_type=\"spatial\",\n",
    "            use_attention=use_attention,\n",
    "            filters=filters,\n",
    "            num_layers=num_layers,\n",
    "            output_activation=\"softmax\",\n",
    "        )\n",
    "\n",
    "learning_rate = 0.002\n",
    "loss_func = weighted_categorical_crossentropy(class_weights)\n",
    "preprocess_func = train_preprocess\n",
    "print(learning_rate, learning_rate_decay)\n",
    "model.compile(\n",
    "            optimizer=tf.keras.optimizers.Adam(\n",
    "                lr=learning_rate, decay=learning_rate_decay\n",
    "            ),\n",
    "            loss=loss_func,\n",
    "            metrics=[\"accuracy\", evaluation_metrics.jaccard_coef, evaluation_metrics.dice_coef],\n",
    "        )\n",
    "\n",
    "print(model.summary())"
   ]
  },
  {
   "cell_type": "code",
   "execution_count": null,
   "metadata": {},
   "outputs": [],
   "source": []
  }
 ],
 "metadata": {
  "kernelspec": {
   "display_name": "Python 3",
   "language": "python",
   "name": "python3"
  },
  "language_info": {
   "codemirror_mode": {
    "name": "ipython",
    "version": 3
   },
   "file_extension": ".py",
   "mimetype": "text/x-python",
   "name": "python",
   "nbconvert_exporter": "python",
   "pygments_lexer": "ipython3",
   "version": "3.8.3"
  }
 },
 "nbformat": 4,
 "nbformat_minor": 4
}
